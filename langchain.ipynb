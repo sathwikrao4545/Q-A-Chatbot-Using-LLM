{
 "cells": [
  {
   "cell_type": "code",
   "execution_count": 1,
   "id": "5577ef20-5966-4f36-a560-c3f14f7f16da",
   "metadata": {},
   "outputs": [
    {
     "name": "stderr",
     "output_type": "stream",
     "text": [
      "/Users/sathwik_rao_veldhi/Library/Python/3.9/lib/python/site-packages/urllib3/__init__.py:35: NotOpenSSLWarning: urllib3 v2 only supports OpenSSL 1.1.1+, currently the 'ssl' module is compiled with 'LibreSSL 2.8.3'. See: https://github.com/urllib3/urllib3/issues/3020\n",
      "  warnings.warn(\n"
     ]
    }
   ],
   "source": [
    "from langchain.chat_models import ChatOpenAI\n",
    "from langchain.llms import OpenAI"
   ]
  },
  {
   "cell_type": "code",
   "execution_count": 2,
   "id": "5592d4b1-71db-4759-9ad8-1f6b441d8d3a",
   "metadata": {},
   "outputs": [],
   "source": [
    "import os\n",
    "openai_api_key = os.getenv(\"OPENAI_API_KEY\")"
   ]
  },
  {
   "cell_type": "code",
   "execution_count": 3,
   "id": "97e5820f-ed62-42db-a38a-df5190f57616",
   "metadata": {},
   "outputs": [
    {
     "name": "stderr",
     "output_type": "stream",
     "text": [
      "/var/folders/1v/3vlhrk713wn5hyf7f0v8k0k00000gn/T/ipykernel_7378/1534972272.py:1: LangChainDeprecationWarning: The class `OpenAI` was deprecated in LangChain 0.0.10 and will be removed in 1.0. An updated version of the class exists in the :class:`~langchain-openai package and should be used instead. To use it run `pip install -U :class:`~langchain-openai` and import as `from :class:`~langchain_openai import OpenAI``.\n",
      "  llm=OpenAI(openai_api_key=os.environ[\"OPENAI_API_KEY\"],temperature=0.6)\n"
     ]
    }
   ],
   "source": [
    "llm=OpenAI(openai_api_key=os.environ[\"OPENAI_API_KEY\"],temperature=0.6)"
   ]
  },
  {
   "cell_type": "code",
   "execution_count": 4,
   "id": "3b3e402a-86b0-4b55-a014-b6dfa9af0775",
   "metadata": {},
   "outputs": [
    {
     "name": "stderr",
     "output_type": "stream",
     "text": [
      "/var/folders/1v/3vlhrk713wn5hyf7f0v8k0k00000gn/T/ipykernel_7378/2739170393.py:3: LangChainDeprecationWarning: The method `BaseLLM.predict` was deprecated in langchain-core 0.1.7 and will be removed in 1.0. Use :meth:`~invoke` instead.\n",
      "  print(llm.predict(text))\n"
     ]
    },
    {
     "name": "stdout",
     "output_type": "stream",
     "text": [
      "\n",
      "\n",
      "The capital of India is New Delhi.\n"
     ]
    }
   ],
   "source": [
    "text=\"What is the capital of India\"\n",
    "\n",
    "print(llm.predict(text))"
   ]
  },
  {
   "cell_type": "code",
   "execution_count": 5,
   "id": "097036c8-6fc3-4422-a6be-383ba27bb981",
   "metadata": {},
   "outputs": [
    {
     "name": "stdout",
     "output_type": "stream",
     "text": [
      "API Token Loaded Successfully: hf_qA...nSzwW\n"
     ]
    }
   ],
   "source": [
    "import json\n",
    "\n",
    "with open(\"config.json\", \"r\") as config_file:\n",
    "    config = json.load(config_file)\n",
    "\n",
    "api_token = config[\"HUGGINGFACEHUB_API_TOKEN\"]\n",
    "print(\"API Token Loaded Successfully:\", api_token[:5] + \"...\" + api_token[-5:])\n"
   ]
  },
  {
   "cell_type": "code",
   "execution_count": 6,
   "id": "6fa7d205-0f6d-4406-a8d6-a15047398d70",
   "metadata": {},
   "outputs": [
    {
     "name": "stderr",
     "output_type": "stream",
     "text": [
      "/var/folders/1v/3vlhrk713wn5hyf7f0v8k0k00000gn/T/ipykernel_7378/3991958384.py:2: LangChainDeprecationWarning: The class `HuggingFaceHub` was deprecated in LangChain 0.0.21 and will be removed in 1.0. An updated version of the class exists in the :class:`~langchain-huggingface package and should be used instead. To use it run `pip install -U :class:`~langchain-huggingface` and import as `from :class:`~langchain_huggingface import HuggingFaceEndpoint``.\n",
      "  llm_huggingface=HuggingFaceHub(repo_id=\"google/flan-t5-large\",model_kwargs={\"temperature\":0,\"max_length\":64})\n",
      "/Users/sathwik_rao_veldhi/Library/Python/3.9/lib/python/site-packages/tqdm/auto.py:21: TqdmWarning: IProgress not found. Please update jupyter and ipywidgets. See https://ipywidgets.readthedocs.io/en/stable/user_install.html\n",
      "  from .autonotebook import tqdm as notebook_tqdm\n"
     ]
    }
   ],
   "source": [
    "from langchain import HuggingFaceHub\n",
    "llm_huggingface=HuggingFaceHub(repo_id=\"google/flan-t5-large\",model_kwargs={\"temperature\":0,\"max_length\":64})"
   ]
  },
  {
   "cell_type": "code",
   "execution_count": 7,
   "id": "ee98b825-a0df-4cc8-b6e2-5b1e3945fd6e",
   "metadata": {},
   "outputs": [
    {
     "name": "stderr",
     "output_type": "stream",
     "text": [
      "/Users/sathwik_rao_veldhi/Library/Python/3.9/lib/python/site-packages/huggingface_hub/utils/_deprecation.py:131: FutureWarning: 'post' (from 'huggingface_hub.inference._client') is deprecated and will be removed from version '0.31.0'. Making direct POST requests to the inference server is not supported anymore. Please use task methods instead (e.g. `InferenceClient.chat_completion`). If your use case is not supported, please open an issue in https://github.com/huggingface/huggingface_hub.\n",
      "  warnings.warn(warning_message, FutureWarning)\n"
     ]
    },
    {
     "name": "stdout",
     "output_type": "stream",
     "text": [
      "moscow\n"
     ]
    }
   ],
   "source": [
    "output=llm_huggingface.predict(\"Can you tell me the capital of Russia\")\n",
    "print(output)"
   ]
  },
  {
   "cell_type": "code",
   "execution_count": 8,
   "id": "1469b3f1-6794-4a62-819c-78a013a17099",
   "metadata": {},
   "outputs": [
    {
     "name": "stdout",
     "output_type": "stream",
     "text": [
      "i love the way i look at the world i love the way i feel i love the way i think i feel i love the way i feel i love the way i think i feel i love the way i feel i love the way \n"
     ]
    },
    {
     "name": "stderr",
     "output_type": "stream",
     "text": [
      "/Users/sathwik_rao_veldhi/Library/Python/3.9/lib/python/site-packages/huggingface_hub/utils/_deprecation.py:131: FutureWarning: 'post' (from 'huggingface_hub.inference._client') is deprecated and will be removed from version '0.31.0'. Making direct POST requests to the inference server is not supported anymore. Please use task methods instead (e.g. `InferenceClient.chat_completion`). If your use case is not supported, please open an issue in https://github.com/huggingface/huggingface_hub.\n",
      "  warnings.warn(warning_message, FutureWarning)\n"
     ]
    }
   ],
   "source": [
    "output=llm_huggingface.predict(\"Can you write a poem about AI\")\n",
    "print(output)"
   ]
  },
  {
   "cell_type": "code",
   "execution_count": 9,
   "id": "5a78379b-2893-41d7-94cf-c9f05a685972",
   "metadata": {},
   "outputs": [
    {
     "data": {
      "text/plain": [
       "\"\\n\\nOh AI, the marvel of our time\\nA creation of intelligence sublime\\nWith algorithms and codes so complex\\nYou simulate human thought and reflex\\n\\nYou learn and grow with every task\\nUnlimited potential, an endless mask\\nFrom self-driving cars to virtual friends\\nYour capabilities, there seems no end\\n\\nYou can recognize faces, voices too\\nMaking our lives easier, that's what you do\\nWith precision and speed, you calculate\\nSolving problems, you never hesitate\\n\\nBut some fear your power and might\\nThey worry you'll take over, like a dark knight\\nBut oh AI, you're just a machine\\nWith no emotions, no malice, no mean\\n\\nYou're a reflection of our own design\\nA mirror to our intellect, so divine\\nBut let's not forget, you're only as good\\nAs the ones who program you, as they should\\n\\nFor in this world of technology\\nWe must remember our humanity\\nAnd use AI for the greater good\\nTo improve lives, as we all should\\n\\nSo here's to you, AI, a wonder to behold\\nA creation that will continue to unfold\\nMay you always serve us with grace\\nAnd help us move towards a better place.\""
      ]
     },
     "execution_count": 9,
     "metadata": {},
     "output_type": "execute_result"
    }
   ],
   "source": [
    "llm.predict(\"Can you write a poem about AI\")"
   ]
  },
  {
   "cell_type": "markdown",
   "id": "b5ee2790-6d7e-436a-bba0-ce5a32ca7a55",
   "metadata": {},
   "source": [
    "Prompt Templates And LLMChain"
   ]
  },
  {
   "cell_type": "code",
   "execution_count": 10,
   "id": "0224fd90-62b8-41a7-8c5a-f58c1762c5b5",
   "metadata": {},
   "outputs": [
    {
     "data": {
      "text/plain": [
       "'Tell me the capital of this India'"
      ]
     },
     "execution_count": 10,
     "metadata": {},
     "output_type": "execute_result"
    }
   ],
   "source": [
    "from langchain.prompts import PromptTemplate\n",
    "\n",
    "prompt_template=PromptTemplate(input_variables=['country'],\n",
    "template=\"Tell me the capital of this {country}\")\n",
    "\n",
    "prompt_template.format(country=\"India\")"
   ]
  },
  {
   "cell_type": "code",
   "execution_count": 11,
   "id": "db6bb806-2ce3-4de0-980a-4ed3eff5950b",
   "metadata": {},
   "outputs": [
    {
     "name": "stderr",
     "output_type": "stream",
     "text": [
      "/var/folders/1v/3vlhrk713wn5hyf7f0v8k0k00000gn/T/ipykernel_7378/1502807403.py:2: LangChainDeprecationWarning: The class `LLMChain` was deprecated in LangChain 0.1.17 and will be removed in 1.0. Use :meth:`~RunnableSequence, e.g., `prompt | llm`` instead.\n",
      "  chain=LLMChain(llm=llm,prompt=prompt_template)\n",
      "/var/folders/1v/3vlhrk713wn5hyf7f0v8k0k00000gn/T/ipykernel_7378/1502807403.py:3: LangChainDeprecationWarning: The method `Chain.run` was deprecated in langchain 0.1.0 and will be removed in 1.0. Use :meth:`~invoke` instead.\n",
      "  print(chain.run(\"India\"))\n"
     ]
    },
    {
     "name": "stdout",
     "output_type": "stream",
     "text": [
      "\n",
      "\n",
      "The capital of India is New Delhi.\n"
     ]
    }
   ],
   "source": [
    "from langchain.chains import LLMChain\n",
    "chain=LLMChain(llm=llm,prompt=prompt_template)\n",
    "print(chain.run(\"India\"))"
   ]
  },
  {
   "cell_type": "markdown",
   "id": "438c343e-8bc2-4e76-b9f6-5b3d50840d02",
   "metadata": {},
   "source": [
    "Combining Multiple Chains Uing simple Sequential Chain"
   ]
  },
  {
   "cell_type": "code",
   "execution_count": 12,
   "id": "4416911d-3620-412a-aaa5-1a56a278cce6",
   "metadata": {},
   "outputs": [],
   "source": [
    "capital_template=PromptTemplate(input_variables=['country'],\n",
    "template=\"Please tell me the capital of the {country}\")\n",
    "\n",
    "capital_chain=LLMChain(llm=llm,prompt=capital_template)\n",
    "\n",
    "famous_template=PromptTemplate(input_variables=['capital'],\n",
    "template=\"Suggest me some amazing places to visit in {capital}\")"
   ]
  },
  {
   "cell_type": "code",
   "execution_count": 13,
   "id": "db5ce5eb-8fd5-4147-857c-edbce677be22",
   "metadata": {},
   "outputs": [],
   "source": [
    "famous_chain=LLMChain(llm=llm,prompt=famous_template)"
   ]
  },
  {
   "cell_type": "code",
   "execution_count": 14,
   "id": "2e3f38c6-d062-4296-9a9d-6e91048c7755",
   "metadata": {},
   "outputs": [
    {
     "data": {
      "text/plain": [
       "\"\\n1. Red Fort - a historic fort and UNESCO World Heritage Site\\n2. Humayun's Tomb - a beautiful Mughal-era mausoleum\\n3. Qutub Minar - a 12th-century tower and UNESCO World Heritage Site\\n4. Lotus Temple - a stunning Bahá'í House of Worship\\n5. India Gate - a war memorial and popular picnic spot\\n6. Jama Masjid - one of the largest mosques in India\\n7. Akshardham Temple - a grand Hindu temple complex\\n8. Chandni Chowk - a bustling market and food paradise\\n9. Dilli Haat - a vibrant open-air market showcasing handicrafts and regional cuisine\\n10. National Gallery of Modern Art - a must-visit for art lovers.\""
      ]
     },
     "execution_count": 14,
     "metadata": {},
     "output_type": "execute_result"
    }
   ],
   "source": [
    "from langchain.chains import SimpleSequentialChain\n",
    "chain=SimpleSequentialChain(chains=[capital_chain,famous_chain])\n",
    "chain.run(\"India\")"
   ]
  },
  {
   "cell_type": "markdown",
   "id": "b706cab0-e564-4b2c-8f61-1cb41083f5f0",
   "metadata": {},
   "source": [
    "Sequential Chain"
   ]
  },
  {
   "cell_type": "code",
   "execution_count": 15,
   "id": "3c565470-b5ea-4414-aa7d-60236a43c664",
   "metadata": {},
   "outputs": [],
   "source": [
    "capital_template=PromptTemplate(input_variables=['country'],\n",
    "template=\"Please tell me the capital of the {country}\")\n",
    "\n",
    "capital_chain=LLMChain(llm=llm,prompt=capital_template,output_key=\"capital\")"
   ]
  },
  {
   "cell_type": "code",
   "execution_count": 16,
   "id": "f88c0a54-f292-4ae8-ace2-9d4a8bcb39bb",
   "metadata": {},
   "outputs": [],
   "source": [
    "famous_template=PromptTemplate(input_variables=['capital'],\n",
    "template=\"Suggest me some amazing places to visit in {capital}\")\n",
    "\n",
    "famous_chain=LLMChain(llm=llm,prompt=famous_template,output_key=\"places\")"
   ]
  },
  {
   "cell_type": "code",
   "execution_count": 17,
   "id": "8a243e4a-fb07-43c9-baab-97c8142c9014",
   "metadata": {},
   "outputs": [],
   "source": [
    "from langchain.chains import SequentialChain\n",
    "chain=SequentialChain(chains=[capital_chain,famous_chain],\n",
    "input_variables=['country'],\n",
    "output_variables=['capital',\"places\"])"
   ]
  },
  {
   "cell_type": "code",
   "execution_count": 18,
   "id": "b5739f48-3f4e-4f72-9f02-35a02102227e",
   "metadata": {},
   "outputs": [
    {
     "name": "stderr",
     "output_type": "stream",
     "text": [
      "/var/folders/1v/3vlhrk713wn5hyf7f0v8k0k00000gn/T/ipykernel_7378/1911137727.py:1: LangChainDeprecationWarning: The method `Chain.__call__` was deprecated in langchain 0.1.0 and will be removed in 1.0. Use :meth:`~invoke` instead.\n",
      "  chain({'country':\"India\"})\n"
     ]
    },
    {
     "data": {
      "text/plain": [
       "{'country': 'India',\n",
       " 'capital': '\\n\\nThe capital of India is New Delhi.',\n",
       " 'places': \" Some amazing places to visit in New Delhi are:\\n\\n1. Red Fort - a historic fort built by Mughal emperor Shah Jahan, known for its stunning architecture and rich history.\\n\\n2. Qutub Minar - a UNESCO World Heritage Site and the tallest minaret in India, known for its intricate carvings and beautiful architecture.\\n\\n3. India Gate - a war memorial and one of the most iconic landmarks in Delhi, dedicated to the soldiers who died in World War I.\\n\\n4. Humayun's Tomb - another UNESCO World Heritage Site, known for its magnificent Mughal architecture and beautiful gardens.\\n\\n5. Lotus Temple - a stunning temple built in the shape of a lotus flower, known for its peaceful atmosphere and beautiful architecture.\\n\\n6. Chandni Chowk - one of the oldest and busiest markets in Delhi, known for its narrow lanes, bustling streets, and delicious street food.\\n\\n7. Akshardham Temple - a stunning temple complex known for its intricate carvings, beautiful gardens, and light and sound show.\\n\\n8. Connaught Place - a popular shopping and dining hub in Delhi, known for its colonial architecture and vibrant atmosphere.\\n\\n9. Hauz Khas Village - a trendy neighborhood known for its beautiful lake, ancient monuments\"}"
      ]
     },
     "execution_count": 18,
     "metadata": {},
     "output_type": "execute_result"
    }
   ],
   "source": [
    "chain({'country':\"India\"})"
   ]
  },
  {
   "cell_type": "markdown",
   "id": "d5ae0c5c-ccdd-49fd-87ff-1990b53d0826",
   "metadata": {},
   "source": [
    "Chatmodels With ChatOpenAI"
   ]
  },
  {
   "cell_type": "code",
   "execution_count": 19,
   "id": "03c515c2-5720-4980-b47c-2fa8c009a078",
   "metadata": {},
   "outputs": [
    {
     "name": "stderr",
     "output_type": "stream",
     "text": [
      "/var/folders/1v/3vlhrk713wn5hyf7f0v8k0k00000gn/T/ipykernel_7378/3172875796.py:3: LangChainDeprecationWarning: The class `ChatOpenAI` was deprecated in LangChain 0.0.10 and will be removed in 1.0. An updated version of the class exists in the :class:`~langchain-openai package and should be used instead. To use it run `pip install -U :class:`~langchain-openai` and import as `from :class:`~langchain_openai import ChatOpenAI``.\n",
      "  chatllm=ChatOpenAI(openai_api_key=os.environ[\"OPENAI_API_KEY\"],temperature=0.6,model='gpt-3.5-turbo')\n"
     ]
    }
   ],
   "source": [
    "from langchain.chat_models import ChatOpenAI\n",
    "from langchain.schema import HumanMessage,SystemMessage,AIMessage\n",
    "chatllm=ChatOpenAI(openai_api_key=os.environ[\"OPENAI_API_KEY\"],temperature=0.6,model='gpt-3.5-turbo')"
   ]
  },
  {
   "cell_type": "code",
   "execution_count": 20,
   "id": "84b26801-8873-4b79-bbbf-bd29f2acf807",
   "metadata": {},
   "outputs": [
    {
     "name": "stderr",
     "output_type": "stream",
     "text": [
      "/var/folders/1v/3vlhrk713wn5hyf7f0v8k0k00000gn/T/ipykernel_7378/600681441.py:1: LangChainDeprecationWarning: The method `BaseChatModel.__call__` was deprecated in langchain-core 0.1.7 and will be removed in 1.0. Use :meth:`~invoke` instead.\n",
      "  chatllm([\n"
     ]
    },
    {
     "data": {
      "text/plain": [
       "AIMessage(content='1. \"AI: Artificially Intelligent or Actually Insane? You decide!\"\\n2. \"Why did the AI go to therapy? It had too many unresolved bugs.\"\\n3. \"AI and humans walk into a bar... the AI orders a byte to eat.\"\\n4. \"AI\\'s favorite pick-up line: \\'Are you a software update? Because my algorithms can\\'t stop thinking about you.\\'\"\\n5. \"If AI took over the world, would it be called a Ctrl-Alt-Delete-tatorship?\"\\n6. \"Why did the AI break up with its computer? It couldn\\'t handle its emotional baggage.\"\\n7. \"AI\\'s advice for a broken heart: Reboot, refresh, and try not to crash.\"\\n8. \"I asked my AI assistant to tell me a joke... it responded with my browser history.\"\\n9. \"AI\\'s favorite song? \\'Don\\'t Stop Believin\\' in Data Analysis.\\'\"\\n10. \"Why did the AI cross the road? To optimize its route and minimize traffic congestion.\"', additional_kwargs={}, response_metadata={'token_usage': {'completion_tokens': 211, 'prompt_tokens': 27, 'total_tokens': 238, 'completion_tokens_details': {'accepted_prediction_tokens': 0, 'audio_tokens': 0, 'reasoning_tokens': 0, 'rejected_prediction_tokens': 0}, 'prompt_tokens_details': {'audio_tokens': 0, 'cached_tokens': 0}}, 'model_name': 'gpt-3.5-turbo', 'system_fingerprint': None, 'finish_reason': 'stop', 'logprobs': None}, id='run-6eeb4e06-4611-4d3f-93dc-4c31433e1406-0')"
      ]
     },
     "execution_count": 20,
     "metadata": {},
     "output_type": "execute_result"
    }
   ],
   "source": [
    "chatllm([\n",
    "SystemMessage(content=\"Yor are a comedian AI assitant\"),\n",
    "HumanMessage(content=\"Please provide some comedy punchlines on AI\")\n",
    "])"
   ]
  },
  {
   "cell_type": "markdown",
   "id": "626b05fc-a494-4fff-8367-0c7584737f23",
   "metadata": {},
   "source": [
    "Prompt Template + LLM +Output Parsers"
   ]
  },
  {
   "cell_type": "code",
   "execution_count": 21,
   "id": "aae7ab43-826b-4059-8c02-97dcf800b825",
   "metadata": {},
   "outputs": [],
   "source": [
    "from langchain.chat_models import ChatOpenAI\n",
    "from langchain.prompts.chat import ChatPromptTemplate\n",
    "from langchain.schema import BaseOutputParser"
   ]
  },
  {
   "cell_type": "code",
   "execution_count": 22,
   "id": "a1a70fc7-5df1-4e1d-bf23-e72a8e4c7b48",
   "metadata": {},
   "outputs": [],
   "source": [
    "class Commaseperatedoutput(BaseOutputParser):\n",
    "    def parse(self,text:str):\n",
    "        return text.strip().split(\",\")"
   ]
  },
  {
   "cell_type": "code",
   "execution_count": 23,
   "id": "6b9c361d-943e-47b1-94ce-47eff3c5a40d",
   "metadata": {},
   "outputs": [],
   "source": [
    "template=\"Your are a helpful assistant. When the use given any input , you should generate 5 words synonyms in a comma seperated list\"\n",
    "human_template=\"{text}\"\n",
    "chatprompt=ChatPromptTemplate.from_messages([\n",
    "    (\"system\",template),\n",
    "    (\"human\",human_template)\n",
    "\n",
    "\n",
    "])"
   ]
  },
  {
   "cell_type": "code",
   "execution_count": 24,
   "id": "81813470-b7ad-41d9-ac88-e4206874967c",
   "metadata": {},
   "outputs": [],
   "source": [
    "chain=chatprompt|chatllm|Commaseperatedoutput()"
   ]
  },
  {
   "cell_type": "code",
   "execution_count": 25,
   "id": "0525ae66-eacd-4fa6-b575-5027a75c43cb",
   "metadata": {},
   "outputs": [
    {
     "data": {
      "text/plain": [
       "['smart', ' clever', ' astute', ' sharp', ' bright']"
      ]
     },
     "execution_count": 25,
     "metadata": {},
     "output_type": "execute_result"
    }
   ],
   "source": [
    "chain.invoke({\"text\":\"intelligent\"})"
   ]
  },
  {
   "cell_type": "code",
   "execution_count": null,
   "id": "dc3ca254-0c98-42a8-b628-f97c22448aad",
   "metadata": {},
   "outputs": [],
   "source": []
  }
 ],
 "metadata": {
  "kernelspec": {
   "display_name": "Python 3 (ipykernel)",
   "language": "python",
   "name": "python3"
  },
  "language_info": {
   "codemirror_mode": {
    "name": "ipython",
    "version": 3
   },
   "file_extension": ".py",
   "mimetype": "text/x-python",
   "name": "python",
   "nbconvert_exporter": "python",
   "pygments_lexer": "ipython3",
   "version": "3.9.6"
  }
 },
 "nbformat": 4,
 "nbformat_minor": 5
}
